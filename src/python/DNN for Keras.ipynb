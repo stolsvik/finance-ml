{
 "cells": [
  {
   "cell_type": "code",
   "execution_count": 1,
   "metadata": {},
   "outputs": [
    {
     "name": "stderr",
     "output_type": "stream",
     "text": [
      "Using TensorFlow backend.\n"
     ]
    },
    {
     "name": "stdout",
     "output_type": "stream",
     "text": [
      "Current Working Directory: /home/endre/git/finance_ml/src\n",
      "Python: 3.6.1, TensorFlow:1.2.1, Keras:2.0.5\n"
     ]
    }
   ],
   "source": [
    "import pickle\n",
    "from timeit import default_timer as timer\n",
    "\n",
    "import os\n",
    "import platform\n",
    "import tensorflow as tf\n",
    "import keras;\n",
    "\n",
    "# *print (\"Current file path: {}\".format(os.path.dirname(os.path.realpath(__file__))))\n",
    "print (\"Current Working Directory: {}\".format(os.getcwd()))\n",
    "print(\"Python: {}, TensorFlow:{}, Keras:{}\".\\\n",
    "      format(platform.python_version(), tf.__version__, keras.__version__))\n",
    "\n",
    "random_seed = 1\n",
    "\n"
   ]
  },
  {
   "cell_type": "markdown",
   "metadata": {},
   "source": [
    "# Load pickled Features, Labels and Name of each Feature-array"
   ]
  },
  {
   "cell_type": "code",
   "execution_count": 2,
   "metadata": {},
   "outputs": [
    {
     "name": "stdout",
     "output_type": "stream",
     "text": [
      "De-pickling features, labels and feature/label names..\n",
      "De-pickle took 23844.117800996173 ms\n",
      "\n",
      "RangeNames/features/labels len: 1008922/1008922/1008922\n",
      "\n",
      "Number of Features for each feature-array: 54\n",
      "Number of Labels for each label-array: 4\n"
     ]
    }
   ],
   "source": [
    "print (\"De-pickling features, labels and feature/label names..\")\n",
    "load_start = timer()\n",
    "\n",
    "# pickled = pickle.load(open(\"RangeNamesFeaturesAndLabels-mk1.pickle\", \"rb\"))\n",
    "# pickled = pickle.load(open(\"RangeNamesFeaturesAndLabels-smallSet-6stocks.pickle\", \"rb\"))\n",
    "# pickled = pickle.load(open(\"RangeNamesFeaturesAndLabels-smallSet-50stocks.pickle\", \"rb\"))\n",
    "pickled = pickle.load(open(\"RangeNamesFeaturesAndLabels-mediumset-unknownNumStocks.pickle\", \"rb\"))\n",
    "# pickled = pickle.load(open(\"RangeNamesFeaturesAndLabels-largeSet-1619stocks.pickle\", \"rb\"))\n",
    "\n",
    "load_millis = (timer()-load_start) * 1000\n",
    "print (\"De-pickle took {} ms\".format(load_millis))\n",
    "\n",
    "# {'rangeNames': rangeNames, 'features': features, 'labels': labels}\n",
    "rangeNames = pickled['rangeNames']\n",
    "features = pickled['features']\n",
    "labels = pickled['labels']\n",
    "print(\"\\nRangeNames/features/labels len: {}/{}/{}\".\\\n",
    "      format(len(rangeNames), len(features), len(labels)))\n",
    "numFeatures = len(features[0])\n",
    "print(\"\\nNumber of Features for each feature-array: {}\".format(numFeatures))\n",
    "print(\"Number of Labels for each label-array: {}\".format(len(labels[0])))"
   ]
  },
  {
   "cell_type": "markdown",
   "metadata": {},
   "source": [
    "# Split set into Train and Test"
   ]
  },
  {
   "cell_type": "code",
   "execution_count": 3,
   "metadata": {},
   "outputs": [
    {
     "name": "stdout",
     "output_type": "stream",
     "text": [
      "Memory usage: 7895.10 MB\n",
      "Memory usage: 7895.10 MB\n",
      "Memory usage: 7895.10 MB\n",
      "TRAIN RangeNames/features/labels len: 939830/939830/939830 - 93.15% of total\n",
      "TEST RangeNames/features/labels len: 69092/69092/69092 - 6.85% of total\n",
      "\n",
      "Total loaded features: 1008922, trainFeatures + testFeatures:1008922 - 100.0000%\n"
     ]
    }
   ],
   "source": [
    "import resource\n",
    "import gc\n",
    "def mem():\n",
    "    print('Memory usage: %2.2f MB' % round(resource.getrusage(resource.RUSAGE_SELF).ru_maxrss/1024.0,1))\n",
    "    \n",
    "mem()\n",
    "trainRangeNames = []\n",
    "trainFeatures = []\n",
    "trainLabels = []\n",
    "\n",
    "testRangeNames = []\n",
    "testFeatures = []\n",
    "testLabels = []\n",
    "mem()\n",
    "\n",
    "gc.collect()\n",
    "mem()\n",
    "\n",
    "length = len(rangeNames)\n",
    "for i in range(length):\n",
    "    names = rangeNames[i]\n",
    "    if (names[1] < '2016-01-01'):\n",
    "        trainRangeNames.append(names)\n",
    "        trainFeatures.append(features[i])\n",
    "        trainLabels.append(labels[i])\n",
    "    else:\n",
    "        testRangeNames.append(names)\n",
    "        testFeatures.append(features[i])\n",
    "        testLabels.append(labels[i])\n",
    "\n",
    "lenTrainFeatures = len(trainFeatures)\n",
    "\n",
    "print(\"TRAIN RangeNames/features/labels len: {}/{}/{} - {:.2f}% of total\".\\\n",
    "      format(len(trainRangeNames), lenTrainFeatures, len(trainLabels), (lenTrainFeatures / len(features)) * 100 ))\n",
    "print(\"TEST RangeNames/features/labels len: {}/{}/{} - {:.2f}% of total\".\\\n",
    "      format(len(testRangeNames), len(testFeatures), len(testLabels), (len(testFeatures) / len(features)) * 100 ))\n",
    "\n",
    "print(\"\\nTotal loaded features: {}, trainFeatures + testFeatures:{} - {:.4f}%\".\\\n",
    "      format(len(features), lenTrainFeatures + len(testFeatures), ((lenTrainFeatures + len(testFeatures)) / len(features)) * 100))"
   ]
  },
  {
   "cell_type": "code",
   "execution_count": 8,
   "metadata": {},
   "outputs": [
    {
     "name": "stdout",
     "output_type": "stream",
     "text": [
      "One-hotted ok.\n",
      "Train labels [good, bad]: [505724, 434106] -> [53.81%, 46.19%]\n",
      "Test labels  [good, bad]: [39999, 29093] -> [57.89%, 42.11%]\n"
     ]
    }
   ],
   "source": [
    "# One-hot the labels\n",
    "\n",
    "num_classes = 2\n",
    "\n",
    "# 0:  5 days\n",
    "# 1: 10 days\n",
    "# 2: 15 days\n",
    "# 3: 20 days\n",
    "label_to_use = 3\n",
    "\n",
    "good = [1,0]\n",
    "bad =  [0,1]\n",
    "\n",
    "trainLabels_onehot = [good if x[label_to_use] > 0 else bad  for x in trainLabels]\n",
    "testLabels_onehot = [good if x[label_to_use] > 0 else bad  for x in testLabels]\n",
    "print(\"One-hotted ok.\")\n",
    "\n",
    "sum_trainLabels = [sum(i) for i in zip(*trainLabels_onehot)]\n",
    "sum_testLabels = [sum(i) for i in zip(*testLabels_onehot)]\n",
    "print(\"Train labels [good, bad]: {} -> [{:.2f}%, {:.2f}%]\".\\\n",
    "      format(sum_trainLabels, (sum_trainLabels[0] / len(trainLabels)) * 100, (sum_trainLabels[1] / len(trainLabels)) * 100))\n",
    "print(\"Test labels  [good, bad]: {} -> [{:.2f}%, {:.2f}%]\".\\\n",
    "      format(sum_testLabels, (sum_testLabels[0] / len(testLabels)) * 100, (sum_testLabels[1] / len(testLabels)) * 100))"
   ]
  },
  {
   "cell_type": "markdown",
   "metadata": {},
   "source": [
    "# !! RUN FROM HERE WHEN ONLY TWEAKING NETWORK !!"
   ]
  },
  {
   "cell_type": "code",
   "execution_count": 18,
   "metadata": {
    "collapsed": true
   },
   "outputs": [],
   "source": [
    "from sklearn.utils import shuffle\n",
    "import numpy as np\n",
    "\n",
    "currentTrainPos = 0\n",
    "current_shuffle = 0\n",
    "shuff_trainFeatures = []\n",
    "shuff_trainLabels_onehot = []\n",
    "def getTrainMiniBatch(miniBatchSize):\n",
    "    global currentTrainPos, current_shuffle\n",
    "    global shuff_trainFeatures, shuff_trainLabels_onehot\n",
    "    # If we'll overflow the features list with this mini_batch, then reset the start position\n",
    "    if (currentTrainPos + miniBatchSize > lenTrainFeatures):\n",
    "        currentTrainPos = 0\n",
    "\n",
    "    # If the start position is 0, then run shuffling of features and labels.\n",
    "    if (currentTrainPos == 0):\n",
    "        print(\"Shuffling training features and labels - {}..\".format(current_shuffle))\n",
    "        shuff_trainFeatures, shuff_trainLabels_onehot = shuffle(trainFeatures, trainLabels_onehot, random_state=current_shuffle)\n",
    "        current_shuffle += 1\n",
    "\n",
    "    # Pick out the desired mini_batch size.\n",
    "    start = currentTrainPos\n",
    "    end = currentTrainPos + miniBatchSize\n",
    "    # .. store this mini_batch end pos as the next mini_batch start pos.\n",
    "    currentTrainPos = end\n",
    "    \n",
    "    return np.array(shuff_trainFeatures[start:end]) / 100.0, np.array(shuff_trainLabels_onehot[start:end])\n",
    "    # return shuff_trainFeatures[start:end], shuff_trainLabels_onehot[start:end]"
   ]
  },
  {
   "cell_type": "markdown",
   "metadata": {},
   "source": [
    "# Set up Neural Network"
   ]
  },
  {
   "cell_type": "code",
   "execution_count": 19,
   "metadata": {},
   "outputs": [
    {
     "name": "stdout",
     "output_type": "stream",
     "text": [
      "_________________________________________________________________\n",
      "Layer (type)                 Output Shape              Param #   \n",
      "=================================================================\n",
      "dropout_6 (Dropout)          (None, 54)                0         \n",
      "_________________________________________________________________\n",
      "dense_14 (Dense)             (None, 800)               44000     \n",
      "_________________________________________________________________\n",
      "dropout_7 (Dropout)          (None, 800)               0         \n",
      "_________________________________________________________________\n",
      "dense_15 (Dense)             (None, 160)               128160    \n",
      "_________________________________________________________________\n",
      "dropout_8 (Dropout)          (None, 160)               0         \n",
      "_________________________________________________________________\n",
      "dense_16 (Dense)             (None, 800)               128800    \n",
      "_________________________________________________________________\n",
      "dropout_9 (Dropout)          (None, 800)               0         \n",
      "_________________________________________________________________\n",
      "dense_17 (Dense)             (None, 2)                 1602      \n",
      "=================================================================\n",
      "Total params: 302,562\n",
      "Trainable params: 302,562\n",
      "Non-trainable params: 0\n",
      "_________________________________________________________________\n"
     ]
    }
   ],
   "source": [
    "from keras.models import Sequential\n",
    "from keras.layers import Dense, Dropout\n",
    "from keras.optimizers import RMSprop\n",
    "\n",
    "model = Sequential()\n",
    "model.add(Dropout(0.1, input_shape=(numFeatures,)))\n",
    "model.add(Dense(800, activation='relu'))\n",
    "model.add(Dropout(0.2))\n",
    "model.add(Dense(160, activation='relu'))\n",
    "model.add(Dropout(0.5))\n",
    "model.add(Dense(800, activation='relu'))\n",
    "model.add(Dropout(0.2))\n",
    "model.add(Dense(num_classes, activation='softmax'))\n",
    "\n",
    "model.summary()\n",
    "\n",
    "model.compile(loss='categorical_crossentropy',\n",
    "              optimizer=RMSprop(),\n",
    "              metrics=['accuracy'])"
   ]
  },
  {
   "cell_type": "markdown",
   "metadata": {},
   "source": [
    "# Train Neural Network"
   ]
  },
  {
   "cell_type": "code",
   "execution_count": 20,
   "metadata": {},
   "outputs": [
    {
     "name": "stdout",
     "output_type": "stream",
     "text": [
      "Running process: [timeout 300 nvidia-smi --query-gpu=utilization.gpu,utilization.memory --format=csv,nounits -lms 100 -f GPU-info.csv]\n",
      "NOTE! Using THREADS for Generator!\n"
     ]
    },
    {
     "data": {
      "application/vnd.jupyter.widget-view+json": {
       "model_id": "927e1959378f4604b8053b744c0dcbd3"
      }
     },
     "metadata": {},
     "output_type": "display_data"
    },
    {
     "name": "stdout",
     "output_type": "stream",
     "text": [
      "Shuffling training features and labels - 0..\n"
     ]
    },
    {
     "data": {
      "application/vnd.jupyter.widget-view+json": {
       "model_id": "fd5bf585c6dd4e43ac5530c8a2b6f038"
      }
     },
     "metadata": {},
     "output_type": "display_data"
    },
    {
     "name": "stdout",
     "output_type": "stream",
     "text": [
      "Shuffling training features and labels - 1..\n"
     ]
    },
    {
     "data": {
      "application/vnd.jupyter.widget-view+json": {
       "model_id": "195f775bb4f341b7998b40c202ab48e9"
      }
     },
     "metadata": {},
     "output_type": "display_data"
    },
    {
     "name": "stdout",
     "output_type": "stream",
     "text": [
      "Shuffling training features and labels - 2..\n"
     ]
    },
    {
     "data": {
      "application/vnd.jupyter.widget-view+json": {
       "model_id": "578e39716fbe4361b375d137f1df13aa"
      }
     },
     "metadata": {},
     "output_type": "display_data"
    },
    {
     "name": "stdout",
     "output_type": "stream",
     "text": [
      "Shuffling training features and labels - 3..\n"
     ]
    },
    {
     "data": {
      "application/vnd.jupyter.widget-view+json": {
       "model_id": "e5c83b297cb64675bfad16a7a793851b"
      }
     },
     "metadata": {},
     "output_type": "display_data"
    },
    {
     "name": "stdout",
     "output_type": "stream",
     "text": [
      "Shuffling training features and labels - 4..\n"
     ]
    },
    {
     "data": {
      "application/vnd.jupyter.widget-view+json": {
       "model_id": "d3810ece2c784ff0b2d21428760c9b54"
      }
     },
     "metadata": {},
     "output_type": "display_data"
    },
    {
     "name": "stdout",
     "output_type": "stream",
     "text": [
      "Shuffling training features and labels - 5..\n"
     ]
    },
    {
     "data": {
      "application/vnd.jupyter.widget-view+json": {
       "model_id": "635e76c5116b42b995207db290dd721c"
      }
     },
     "metadata": {},
     "output_type": "display_data"
    },
    {
     "name": "stdout",
     "output_type": "stream",
     "text": [
      "Shuffling training features and labels - 6..\n"
     ]
    },
    {
     "data": {
      "application/vnd.jupyter.widget-view+json": {
       "model_id": "b8cea6743ca041e69e26002a3f0f0de3"
      }
     },
     "metadata": {},
     "output_type": "display_data"
    },
    {
     "name": "stdout",
     "output_type": "stream",
     "text": [
      "Shuffling training features and labels - 7..\n"
     ]
    },
    {
     "data": {
      "application/vnd.jupyter.widget-view+json": {
       "model_id": "12973dea435c4ed7b9e071842f483be5"
      }
     },
     "metadata": {},
     "output_type": "display_data"
    },
    {
     "name": "stdout",
     "output_type": "stream",
     "text": [
      "Shuffling training features and labels - 8..\n"
     ]
    },
    {
     "data": {
      "application/vnd.jupyter.widget-view+json": {
       "model_id": "a9fd223db5a84e8b975a116bd26c9a78"
      }
     },
     "metadata": {},
     "output_type": "display_data"
    },
    {
     "name": "stdout",
     "output_type": "stream",
     "text": [
      "Shuffling training features and labels - 9..\n"
     ]
    },
    {
     "data": {
      "application/vnd.jupyter.widget-view+json": {
       "model_id": "63371ac5307e4680aedd3e95681bbb01"
      }
     },
     "metadata": {},
     "output_type": "display_data"
    },
    {
     "name": "stdout",
     "output_type": "stream",
     "text": [
      "Shuffling training features and labels - 10..\n"
     ]
    },
    {
     "data": {
      "application/vnd.jupyter.widget-view+json": {
       "model_id": "6fb9eb3743604cd5b2c1f12601f1eb46"
      }
     },
     "metadata": {},
     "output_type": "display_data"
    },
    {
     "name": "stdout",
     "output_type": "stream",
     "text": [
      "Shuffling training features and labels - 11..\n"
     ]
    },
    {
     "data": {
      "application/vnd.jupyter.widget-view+json": {
       "model_id": "6224c7d23f6d4c98bd75edc72c62a76a"
      }
     },
     "metadata": {},
     "output_type": "display_data"
    },
    {
     "name": "stdout",
     "output_type": "stream",
     "text": [
      "Shuffling training features and labels - 12..\n"
     ]
    },
    {
     "data": {
      "application/vnd.jupyter.widget-view+json": {
       "model_id": "2c9498652ffa416fbeb35fe2444b31b5"
      }
     },
     "metadata": {},
     "output_type": "display_data"
    },
    {
     "name": "stdout",
     "output_type": "stream",
     "text": [
      "Shuffling training features and labels - 13..\n"
     ]
    },
    {
     "data": {
      "application/vnd.jupyter.widget-view+json": {
       "model_id": "4d8926d792bb48b5bf6d670d947dac11"
      }
     },
     "metadata": {},
     "output_type": "display_data"
    },
    {
     "name": "stdout",
     "output_type": "stream",
     "text": [
      "Shuffling training features and labels - 14..\n"
     ]
    },
    {
     "data": {
      "application/vnd.jupyter.widget-view+json": {
       "model_id": "51e632fe89d54b1489a5256f2c8fa89e"
      }
     },
     "metadata": {},
     "output_type": "display_data"
    },
    {
     "name": "stdout",
     "output_type": "stream",
     "text": [
      "Shuffling training features and labels - 15..\n"
     ]
    },
    {
     "data": {
      "application/vnd.jupyter.widget-view+json": {
       "model_id": "9f85517a6cd54ff28bb245937186d30f"
      }
     },
     "metadata": {},
     "output_type": "display_data"
    },
    {
     "name": "stdout",
     "output_type": "stream",
     "text": [
      "Shuffling training features and labels - 16..\n"
     ]
    },
    {
     "data": {
      "application/vnd.jupyter.widget-view+json": {
       "model_id": "ed7542cb670b484f8c64ff94aabf0f1b"
      }
     },
     "metadata": {},
     "output_type": "display_data"
    },
    {
     "name": "stdout",
     "output_type": "stream",
     "text": [
      "Shuffling training features and labels - 17..\n"
     ]
    },
    {
     "data": {
      "application/vnd.jupyter.widget-view+json": {
       "model_id": "049f83bc45dc4617875da4566e18b430"
      }
     },
     "metadata": {},
     "output_type": "display_data"
    },
    {
     "name": "stdout",
     "output_type": "stream",
     "text": [
      "Shuffling training features and labels - 18..\n"
     ]
    },
    {
     "data": {
      "application/vnd.jupyter.widget-view+json": {
       "model_id": "53250315463949a5853f8d877f6521eb"
      }
     },
     "metadata": {},
     "output_type": "display_data"
    },
    {
     "name": "stdout",
     "output_type": "stream",
     "text": [
      "Shuffling training features and labels - 19..\n"
     ]
    },
    {
     "data": {
      "application/vnd.jupyter.widget-view+json": {
       "model_id": "8b5950e282944ac1845a485aef0b3fc5"
      }
     },
     "metadata": {},
     "output_type": "display_data"
    },
    {
     "name": "stdout",
     "output_type": "stream",
     "text": [
      "Shuffling training features and labels - 20..\n"
     ]
    },
    {
     "data": {
      "application/vnd.jupyter.widget-view+json": {
       "model_id": "2e544e13fb594decb13e17f39b92fd60"
      }
     },
     "metadata": {},
     "output_type": "display_data"
    },
    {
     "name": "stdout",
     "output_type": "stream",
     "text": [
      "Shuffling training features and labels - 21..\n"
     ]
    },
    {
     "data": {
      "application/vnd.jupyter.widget-view+json": {
       "model_id": "bc494da2e1064cd7a3605a4b9ad5ee01"
      }
     },
     "metadata": {},
     "output_type": "display_data"
    },
    {
     "name": "stdout",
     "output_type": "stream",
     "text": [
      "Shuffling training features and labels - 22..\n"
     ]
    },
    {
     "data": {
      "application/vnd.jupyter.widget-view+json": {
       "model_id": "47a2d82e896841a8986866cf61b76535"
      }
     },
     "metadata": {},
     "output_type": "display_data"
    },
    {
     "name": "stdout",
     "output_type": "stream",
     "text": [
      "Shuffling training features and labels - 23..\n"
     ]
    },
    {
     "data": {
      "application/vnd.jupyter.widget-view+json": {
       "model_id": "3b6707cccc1e44229c01318cf52f8565"
      }
     },
     "metadata": {},
     "output_type": "display_data"
    },
    {
     "name": "stdout",
     "output_type": "stream",
     "text": [
      "Shuffling training features and labels - 24..\n"
     ]
    },
    {
     "data": {
      "application/vnd.jupyter.widget-view+json": {
       "model_id": "1e194e03d69e4af3aad8deabf83cd64d"
      }
     },
     "metadata": {},
     "output_type": "display_data"
    },
    {
     "name": "stdout",
     "output_type": "stream",
     "text": [
      "Shuffling training features and labels - 25..\n"
     ]
    },
    {
     "data": {
      "application/vnd.jupyter.widget-view+json": {
       "model_id": "9f25794f51ea464ea30007f93aed8f4b"
      }
     },
     "metadata": {},
     "output_type": "display_data"
    },
    {
     "name": "stdout",
     "output_type": "stream",
     "text": [
      "Shuffling training features and labels - 26..\n"
     ]
    },
    {
     "data": {
      "application/vnd.jupyter.widget-view+json": {
       "model_id": "065b05fbac494ebbb7f47de3fa8c2724"
      }
     },
     "metadata": {},
     "output_type": "display_data"
    },
    {
     "name": "stdout",
     "output_type": "stream",
     "text": [
      "Shuffling training features and labels - 27..\n"
     ]
    },
    {
     "data": {
      "application/vnd.jupyter.widget-view+json": {
       "model_id": "ba1edfcc58004a078cc9244f26c5f9b1"
      }
     },
     "metadata": {},
     "output_type": "display_data"
    },
    {
     "name": "stdout",
     "output_type": "stream",
     "text": [
      "Shuffling training features and labels - 28..\n"
     ]
    },
    {
     "data": {
      "application/vnd.jupyter.widget-view+json": {
       "model_id": "7cc4839950844a80bf80080cc90be2f8"
      }
     },
     "metadata": {},
     "output_type": "display_data"
    },
    {
     "name": "stdout",
     "output_type": "stream",
     "text": [
      "Shuffling training features and labels - 29..\n"
     ]
    },
    {
     "data": {
      "application/vnd.jupyter.widget-view+json": {
       "model_id": "3095153b144646c4bc1ba7d2c2745c1b"
      }
     },
     "metadata": {},
     "output_type": "display_data"
    },
    {
     "name": "stdout",
     "output_type": "stream",
     "text": [
      "Shuffling training features and labels - 30..\n"
     ]
    },
    {
     "data": {
      "application/vnd.jupyter.widget-view+json": {
       "model_id": "76d6d40b5c804a3694e317cb9005b2b9"
      }
     },
     "metadata": {},
     "output_type": "display_data"
    },
    {
     "name": "stdout",
     "output_type": "stream",
     "text": [
      "Shuffling training features and labels - 31..\n"
     ]
    },
    {
     "data": {
      "application/vnd.jupyter.widget-view+json": {
       "model_id": "3ca71988facb4f6291f04fff4b913acf"
      }
     },
     "metadata": {},
     "output_type": "display_data"
    },
    {
     "name": "stdout",
     "output_type": "stream",
     "text": [
      "Shuffling training features and labels - 32..\n"
     ]
    },
    {
     "data": {
      "application/vnd.jupyter.widget-view+json": {
       "model_id": "b87955e677934f4cbf9b98ad5fa887c6"
      }
     },
     "metadata": {},
     "output_type": "display_data"
    },
    {
     "name": "stdout",
     "output_type": "stream",
     "text": [
      "Shuffling training features and labels - 33..\n"
     ]
    },
    {
     "data": {
      "application/vnd.jupyter.widget-view+json": {
       "model_id": "84b0a4be41a7471687e7032c9893f95f"
      }
     },
     "metadata": {},
     "output_type": "display_data"
    },
    {
     "name": "stdout",
     "output_type": "stream",
     "text": [
      "Shuffling training features and labels - 34..\n"
     ]
    },
    {
     "data": {
      "application/vnd.jupyter.widget-view+json": {
       "model_id": "0b722ce9c54e4b979dca6f7668e1d1b5"
      }
     },
     "metadata": {},
     "output_type": "display_data"
    },
    {
     "name": "stdout",
     "output_type": "stream",
     "text": [
      "Shuffling training features and labels - 35..\n"
     ]
    },
    {
     "data": {
      "application/vnd.jupyter.widget-view+json": {
       "model_id": "77e9c238f0d54ab188ca4277cff658ba"
      }
     },
     "metadata": {},
     "output_type": "display_data"
    },
    {
     "name": "stdout",
     "output_type": "stream",
     "text": [
      "Shuffling training features and labels - 36..\n"
     ]
    },
    {
     "data": {
      "application/vnd.jupyter.widget-view+json": {
       "model_id": "d2fd5523075c478fb67cc52a7d4e575b"
      }
     },
     "metadata": {},
     "output_type": "display_data"
    },
    {
     "name": "stdout",
     "output_type": "stream",
     "text": [
      "Shuffling training features and labels - 37..\n"
     ]
    },
    {
     "data": {
      "application/vnd.jupyter.widget-view+json": {
       "model_id": "782503bba0b3417f9ede3a617dd8880a"
      }
     },
     "metadata": {},
     "output_type": "display_data"
    },
    {
     "name": "stdout",
     "output_type": "stream",
     "text": [
      "Shuffling training features and labels - 38..\n"
     ]
    },
    {
     "data": {
      "application/vnd.jupyter.widget-view+json": {
       "model_id": "c945f8a8f8b04505bcb2e12bd6cc01aa"
      }
     },
     "metadata": {},
     "output_type": "display_data"
    },
    {
     "name": "stdout",
     "output_type": "stream",
     "text": [
      "Shuffling training features and labels - 39..\n"
     ]
    },
    {
     "data": {
      "application/vnd.jupyter.widget-view+json": {
       "model_id": "2b42b169aadd48f5bdc1b8899726f38f"
      }
     },
     "metadata": {},
     "output_type": "display_data"
    },
    {
     "name": "stdout",
     "output_type": "stream",
     "text": [
      "Shuffling training features and labels - 40..\n"
     ]
    },
    {
     "data": {
      "application/vnd.jupyter.widget-view+json": {
       "model_id": "511ffdc79bfa47f296a7a35985119df8"
      }
     },
     "metadata": {},
     "output_type": "display_data"
    },
    {
     "name": "stdout",
     "output_type": "stream",
     "text": [
      "Shuffling training features and labels - 41..\n"
     ]
    },
    {
     "data": {
      "application/vnd.jupyter.widget-view+json": {
       "model_id": "470d4d23ed3b41be95f0b430f7cde797"
      }
     },
     "metadata": {},
     "output_type": "display_data"
    },
    {
     "name": "stdout",
     "output_type": "stream",
     "text": [
      "Shuffling training features and labels - 42..\n"
     ]
    },
    {
     "data": {
      "application/vnd.jupyter.widget-view+json": {
       "model_id": "34b8a7c131fd4a0983f1a239b37f88cc"
      }
     },
     "metadata": {},
     "output_type": "display_data"
    },
    {
     "name": "stdout",
     "output_type": "stream",
     "text": [
      "Shuffling training features and labels - 43..\n"
     ]
    },
    {
     "data": {
      "application/vnd.jupyter.widget-view+json": {
       "model_id": "282ce95123284ccf8075051918bbd7c4"
      }
     },
     "metadata": {},
     "output_type": "display_data"
    },
    {
     "name": "stdout",
     "output_type": "stream",
     "text": [
      "Shuffling training features and labels - 44..\n"
     ]
    },
    {
     "data": {
      "application/vnd.jupyter.widget-view+json": {
       "model_id": "a43e938faee840e7b46df7813120e19d"
      }
     },
     "metadata": {},
     "output_type": "display_data"
    },
    {
     "name": "stdout",
     "output_type": "stream",
     "text": [
      "Shuffling training features and labels - 45..\n"
     ]
    },
    {
     "data": {
      "application/vnd.jupyter.widget-view+json": {
       "model_id": "d2e1c55142e0478aae1880b3588ca75b"
      }
     },
     "metadata": {},
     "output_type": "display_data"
    },
    {
     "name": "stdout",
     "output_type": "stream",
     "text": [
      "Shuffling training features and labels - 46..\n"
     ]
    },
    {
     "data": {
      "application/vnd.jupyter.widget-view+json": {
       "model_id": "0163e9b91cc44a35adda449c97b7e405"
      }
     },
     "metadata": {},
     "output_type": "display_data"
    },
    {
     "name": "stdout",
     "output_type": "stream",
     "text": [
      "Shuffling training features and labels - 47..\n"
     ]
    },
    {
     "data": {
      "application/vnd.jupyter.widget-view+json": {
       "model_id": "d8164a652126420f98c8b1bdc6b51f3c"
      }
     },
     "metadata": {},
     "output_type": "display_data"
    },
    {
     "name": "stdout",
     "output_type": "stream",
     "text": [
      "Shuffling training features and labels - 48..\n"
     ]
    },
    {
     "data": {
      "application/vnd.jupyter.widget-view+json": {
       "model_id": "fca477e53a044a3c836ad2cd78358ce4"
      }
     },
     "metadata": {},
     "output_type": "display_data"
    },
    {
     "name": "stdout",
     "output_type": "stream",
     "text": [
      "Shuffling training features and labels - 49..\n"
     ]
    },
    {
     "data": {
      "application/vnd.jupyter.widget-view+json": {
       "model_id": "4dc09c29d81546a997af97db2b05acee"
      }
     },
     "metadata": {},
     "output_type": "display_data"
    },
    {
     "name": "stdout",
     "output_type": "stream",
     "text": [
      "Shuffling training features and labels - 50..\n",
      "\n"
     ]
    },
    {
     "data": {
      "image/png": "[encoded data removed]",
      "text/plain": [
       "<matplotlib.figure.Figure at 0x7f178cb76438>"
      ]
     },
     "metadata": {},
     "output_type": "display_data"
    },
    {
     "name": "stdout",
     "output_type": "stream",
     "text": [
      "Test loss: 6.07913039262\n",
      "Test accuracy: 0.517816823945\n",
      "Baseline Error: 48.22%\n",
      "TRAINING took 1959.6455657309998 seconds.\n"
     ]
    }
   ],
   "source": [
    "from keras_tqdm import TQDMNotebookCallback\n",
    "\n",
    "batch_size = 128\n",
    "epochs = 50\n",
    "train_size = lenTrainFeatures\n",
    "\n",
    "# ----------\n",
    "import subprocess\n",
    "import shlex\n",
    "nvidia_smi_max_timeout = 300\n",
    "cmd = 'timeout {} nvidia-smi'+\\\n",
    "      ' --query-gpu=utilization.gpu,utilization.memory'+\\\n",
    "      ' --format=csv,nounits -lms 100 -f GPU-info.csv'\n",
    "cmd = cmd.format(nvidia_smi_max_timeout)\n",
    "print(\"Running process: [{}]\".format(cmd))\n",
    "nvidia_smi = subprocess.Popen(shlex.split(cmd))\n",
    "# ----------\n",
    "\n",
    "# Whether to use processes or threads\n",
    "# True => Processes, False => Threads\n",
    "if ('use_multiprocessing' in vars()):\n",
    "    multiprocessing=use_multiprocessing\n",
    "else:\n",
    "    multiprocessing=False\n",
    "\n",
    "print(\"NOTE! Using {} for Generator!\"\\\n",
    "      .format('PROCESSES' if multiprocessing else 'THREADS'))\n",
    "\n",
    "# Stolen from https://github.com/fchollet/keras/issues/1638\n",
    "import threading\n",
    "class threadsafe_iter:\n",
    "    \"\"\"Takes an iterator/generator and makes it thread-safe by\n",
    "    serializing call to the `next` method of given iterator/generator.\n",
    "    \"\"\"\n",
    "    def __init__(self, it):\n",
    "        self.it = it\n",
    "        self.lock = threading.Lock()\n",
    "\n",
    "    def __iter__(self):\n",
    "        return self\n",
    "\n",
    "    def __next__(self):\n",
    "        with self.lock:\n",
    "            return self.it.__next__()\n",
    "\n",
    "\n",
    "def threadsafe_generator(f):\n",
    "    \"\"\"A decorator that takes a generator function and makes it thread-safe.\n",
    "    \"\"\"\n",
    "    def g(*a, **kw):\n",
    "        return threadsafe_iter(f(*a, **kw))\n",
    "    return g\n",
    "\n",
    "\n",
    "@threadsafe_generator\n",
    "def data_generator_mnist_train():\n",
    "    while True:\n",
    "        yield getTrainMiniBatch(batch_size)\n",
    "\n",
    "time_start = timer()\n",
    "history = model.fit_generator(data_generator_mnist_train(), \n",
    "                              steps_per_epoch=int(train_size/batch_size),\n",
    "                              epochs=epochs, \n",
    "                              workers=2, pickle_safe=multiprocessing,\n",
    "                              verbose=0, callbacks=[TQDMNotebookCallback()],\n",
    "                              validation_data=[testFeatures, testLabels_onehot],\n",
    "                              max_q_size=50)\n",
    "training_time = timer()-time_start\n",
    "\n",
    "scores = model.evaluate(testFeatures, testLabels_onehot, verbose=0)\n",
    "\n",
    "# ----------\n",
    "import time\n",
    "time.sleep(0.5)\n",
    "nvidia_smi.terminate()\n",
    "time.sleep(0.5)\n",
    "\n",
    "import pandas as pd\n",
    "import matplotlib.pyplot as plt\n",
    "import seaborn as sb\n",
    "sb.set_style(\"darkgrid\")\n",
    "gpu = pd.read_csv(\"./GPU-info.csv\")\n",
    "gpu.plot()\n",
    "plt.show()\n",
    "# ----------\n",
    "\n",
    "print('Test loss:', scores[0])\n",
    "print('Test accuracy:', scores[1])\n",
    "print(\"Baseline Error: {:.2f}%\".format(100-scores[1]*100))\n",
    "print(\"TRAINING took {} seconds.\".format(training_time))"
   ]
  },
  {
   "cell_type": "code",
   "execution_count": null,
   "metadata": {
    "collapsed": true
   },
   "outputs": [],
   "source": []
  }
 ],
 "metadata": {
  "kernelspec": {
   "display_name": "Python [conda env:endre-tf]",
   "language": "python",
   "name": "conda-env-endre-tf-py"
  },
  "language_info": {
   "codemirror_mode": {
    "name": "ipython",
    "version": 3
   },
   "file_extension": ".py",
   "mimetype": "text/x-python",
   "name": "python",
   "nbconvert_exporter": "python",
   "pygments_lexer": "ipython3",
   "version": "3.6.1"
  }
 },
 "nbformat": 4,
 "nbformat_minor": 2
}
